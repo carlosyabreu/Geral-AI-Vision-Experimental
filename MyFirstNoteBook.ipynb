{
 "cells": [
  {
   "cell_type": "code",
   "execution_count": null,
   "id": "f3fb769b",
   "metadata": {},
   "outputs": [],
   "source": [
    "import numpy as np\n",
    "import pandas as pd\n"
   ]
  },
  {
   "cell_type": "code",
   "execution_count": 36,
   "id": "ee05a017",
   "metadata": {},
   "outputs": [
    {
     "name": "stdout",
     "output_type": "stream",
     "text": [
      "  Customer ID    Customer Name    Segment  Age        Country  \\\n",
      "0    CG-12520      Claire Gute   Consumer   67  United States   \n",
      "1    DV-13045  Darrin Van Huff  Corporate   31  United States   \n",
      "2    SO-20335   Sean O'Donnell   Consumer   65  United States   \n",
      "3    BH-11710  Brosina Hoffman   Consumer   20  United States   \n",
      "4    AA-10480     Andrew Allen   Consumer   50  United States   \n",
      "\n",
      "              City           State  Postal Code Region  \n",
      "0        Henderson        Kentucky        42420  South  \n",
      "1      Los Angeles      California        90036   West  \n",
      "2  Fort Lauderdale         Florida        33311  South  \n",
      "3      Los Angeles      California        90032   West  \n",
      "4          Concord  North Carolina        28027  South  \n"
     ]
    }
   ],
   "source": [
    "dataCustomer = pd.read_csv('Customer.csv', header = 0)\n",
    "print(dataCustomer.head())"
   ]
  }
 ],
 "metadata": {
  "kernelspec": {
   "display_name": ".venv",
   "language": "python",
   "name": "python3"
  },
  "language_info": {
   "codemirror_mode": {
    "name": "ipython",
    "version": 3
   },
   "file_extension": ".py",
   "mimetype": "text/x-python",
   "name": "python",
   "nbconvert_exporter": "python",
   "pygments_lexer": "ipython3",
   "version": "3.12.3"
  }
 },
 "nbformat": 4,
 "nbformat_minor": 5
}
