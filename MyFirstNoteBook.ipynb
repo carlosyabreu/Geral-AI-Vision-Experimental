{
 "cells": [
  {
   "cell_type": "code",
   "execution_count": null,
   "id": "f3fb769b",
   "metadata": {},
   "outputs": [],
   "source": [
    "import numpy as np\n"
   ]
  },
  {
   "cell_type": "code",
   "execution_count": 20,
   "id": "7973d633",
   "metadata": {},
   "outputs": [
    {
     "name": "stdout",
     "output_type": "stream",
     "text": [
      "0: orca\n",
      "1: shark\n",
      "2: tuna\n"
     ]
    }
   ],
   "source": [
    "seamamals = ['orca', 'shark', 'tuna']\n",
    "\n",
    "for idx, seamamal in enumerate(seamamals):\n",
    "    print('{}: {}'.format(idx, seamamal))"
   ]
  }
 ],
 "metadata": {
  "kernelspec": {
   "display_name": ".venv",
   "language": "python",
   "name": "python3"
  },
  "language_info": {
   "codemirror_mode": {
    "name": "ipython",
    "version": 3
   },
   "file_extension": ".py",
   "mimetype": "text/x-python",
   "name": "python",
   "nbconvert_exporter": "python",
   "pygments_lexer": "ipython3",
   "version": "3.12.3"
  }
 },
 "nbformat": 4,
 "nbformat_minor": 5
}
