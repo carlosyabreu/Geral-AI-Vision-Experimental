{
 "cells": [
  {
   "cell_type": "code",
   "execution_count": null,
   "id": "f3fb769b",
   "metadata": {},
   "outputs": [],
   "source": [
    "import numpy as np\n",
    "import pandas as pd\n",
    "import seaborn as sns"
   ]
  },
  {
   "cell_type": "code",
   "execution_count": null,
   "id": "ee05a017",
   "metadata": {},
   "outputs": [],
   "source": [
    "dataCustomer = pd.read_csv('Customer.csv', header = 0, index_col = 0)\n",
    "print(dataCustomer.head())"
   ]
  },
  {
   "cell_type": "code",
   "execution_count": null,
   "id": "a1df705a",
   "metadata": {},
   "outputs": [],
   "source": [
    "sns.displot(dataCustomer.Age, kde=True)"
   ]
  },
  {
   "cell_type": "code",
   "execution_count": null,
   "id": "4fdd522a",
   "metadata": {},
   "outputs": [],
   "source": [
    "help(sns.displot)"
   ]
  }
 ],
 "metadata": {
  "kernelspec": {
   "display_name": ".venv",
   "language": "python",
   "name": "python3"
  },
  "language_info": {
   "codemirror_mode": {
    "name": "ipython",
    "version": 3
   },
   "file_extension": ".py",
   "mimetype": "text/x-python",
   "name": "python",
   "nbconvert_exporter": "python",
   "pygments_lexer": "ipython3",
   "version": "3.12.3"
  }
 },
 "nbformat": 4,
 "nbformat_minor": 5
}
